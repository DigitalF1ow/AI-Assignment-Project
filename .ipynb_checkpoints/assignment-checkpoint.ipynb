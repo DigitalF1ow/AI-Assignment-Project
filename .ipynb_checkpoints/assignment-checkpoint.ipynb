{
 "cells": [
  {
   "cell_type": "markdown",
   "id": "064d6a0b-770b-45d9-89f9-d97adab63cb6",
   "metadata": {},
   "source": [
    "# **Artificial Intelligence Programming Assignment Question 2**\n",
    "Group Members:\n",
    "- Darren Abbot ak Manggon, 11811011274\n",
    "- Tuan Arif Uwais, 1181101025\n",
    "- Puteri Nurul Izzah, 1181100771"
   ]
  },
  {
   "cell_type": "markdown",
   "id": "8406b78f-91a7-4e43-8acd-50ceb975bb88",
   "metadata": {},
   "source": [
    "## Pymaze Initialization and 5 Mazes Needed to be created and track time to plot the search the entire maze"
   ]
  },
  {
   "cell_type": "markdown",
   "id": "41ae9f57-6674-4301-be5c-cb75facca2be",
   "metadata": {},
   "source": [
    "- ensure that variable a and variable b is more or equal to 10 for the maze size.\n",
    "- start and goal can be anywhere in the maze\n",
    "- make sure to import the pizza into the package\n",
    "- The goal will change in run-time, so the searching algorithm will change accordingly."
   ]
  },
  {
   "cell_type": "markdown",
   "id": "f3fb1957-2916-4ef4-8395-24e7f5226a63",
   "metadata": {},
   "source": [
    "## Maze 1 - A-Star Search"
   ]
  },
  {
   "cell_type": "markdown",
   "id": "97b6fa5f-a95d-4459-b6f7-d7148e7e8cbf",
   "metadata": {},
   "source": [
    "Install pymaze to make sure that it is installed"
   ]
  },
  {
   "cell_type": "code",
   "execution_count": null,
   "id": "3f1a58ea-0b34-4c99-9a6e-b0aeb1bce762",
   "metadata": {},
   "outputs": [],
   "source": [
    "pip install pyamaze"
   ]
  },
  {
   "cell_type": "code",
   "execution_count": 17,
   "id": "7170b818-2652-4f42-8469-898dcac9019d",
   "metadata": {},
   "outputs": [],
   "source": [
    "from pyamaze import maze, agent\n",
    "\n",
    "x,y = 1,1\n",
    "m = maze(10, 10)\n",
    "m.CreateMaze(x, y,loopPercent=50, saveMaze=True)\n",
    "m.run()"
   ]
  },
  {
   "cell_type": "code",
   "execution_count": null,
   "id": "0e2425ed-5275-4250-8d8e-a2fad1ac8cfb",
   "metadata": {},
   "outputs": [],
   "source": [
    "print(str(m.cols) + \" and \" + str(m.rows))"
   ]
  },
  {
   "cell_type": "code",
   "execution_count": 22,
   "id": "501665ca-0ed1-4dde-862e-11db123651e4",
   "metadata": {},
   "outputs": [],
   "source": [
    "x,y = 1,1 # Goal\n",
    "m = maze()\n",
    "m.CreateMaze(loadMaze = 'maze--2022-02-09--20-38-30.csv')\n",
    "m.run()"
   ]
  },
  {
   "cell_type": "code",
   "execution_count": null,
   "id": "102f453e-4b62-467f-9d6f-99c1cc222209",
   "metadata": {},
   "outputs": [],
   "source": []
  }
 ],
 "metadata": {
  "kernelspec": {
   "display_name": "Python 3 (ipykernel)",
   "language": "python",
   "name": "python3"
  },
  "language_info": {
   "codemirror_mode": {
    "name": "ipython",
    "version": 3
   },
   "file_extension": ".py",
   "mimetype": "text/x-python",
   "name": "python",
   "nbconvert_exporter": "python",
   "pygments_lexer": "ipython3",
   "version": "3.9.7"
  }
 },
 "nbformat": 4,
 "nbformat_minor": 5
}
