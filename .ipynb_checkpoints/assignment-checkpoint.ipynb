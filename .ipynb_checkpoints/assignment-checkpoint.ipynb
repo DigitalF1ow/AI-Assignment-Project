{
 "cells": [
  {
   "cell_type": "markdown",
   "id": "064d6a0b-770b-45d9-89f9-d97adab63cb6",
   "metadata": {},
   "source": [
    "# **Artificial Intelligence Assignment Question 2**\n",
    "Group Members:\n",
    "- Darren Abbot ak Manggon, 11811011274\n",
    "- Tuan Arif Uwais, 1181101025\n",
    "- Puteri Nurul Izzah, 1181100771"
   ]
  },
  {
   "cell_type": "code",
   "execution_count": null,
   "id": "ad183303-127f-46f0-917b-3bc1eb0eb869",
   "metadata": {},
   "outputs": [],
   "source": []
  }
 ],
 "metadata": {
  "kernelspec": {
   "display_name": "Python 3 (ipykernel)",
   "language": "python",
   "name": "python3"
  },
  "language_info": {
   "codemirror_mode": {
    "name": "ipython",
    "version": 3
   },
   "file_extension": ".py",
   "mimetype": "text/x-python",
   "name": "python",
   "nbconvert_exporter": "python",
   "pygments_lexer": "ipython3",
   "version": "3.9.7"
  }
 },
 "nbformat": 4,
 "nbformat_minor": 5
}
