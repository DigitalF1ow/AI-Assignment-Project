{
 "cells": [
  {
   "cell_type": "markdown",
   "id": "064d6a0b-770b-45d9-89f9-d97adab63cb6",
   "metadata": {},
   "source": [
    "# **Artificial Intelligence Programming Assignment Question 2**\n",
    "Group Members:\n",
    "- Darren Abbot ak Manggon, 11811011274\n",
    "- Tuan Arif Uwais, 1181101025\n",
    "- Puteri Nurul Izzah, 1181100771"
   ]
  },
  {
   "cell_type": "markdown",
   "id": "8406b78f-91a7-4e43-8acd-50ceb975bb88",
   "metadata": {},
   "source": [
    "## Pymaze Initialization and 5 Mazes Needed to be created and track time to plot the search the entire maze"
   ]
  },
  {
   "cell_type": "markdown",
   "id": "41ae9f57-6674-4301-be5c-cb75facca2be",
   "metadata": {},
   "source": [
    "- ensure that variable a and variable b is more or equal to 10 for the maze size.\n",
    "- start and goal can be anywhere in the maze\n",
    "- make sure to import the pizza into the package\n",
    "- The goal will change in run-time, so the searching algorithm will change accordingly."
   ]
  },
  {
   "cell_type": "markdown",
   "id": "f3fb1957-2916-4ef4-8395-24e7f5226a63",
   "metadata": {},
   "source": [
    "## Maze 1 - A-Star Search"
   ]
  },
  {
   "cell_type": "markdown",
   "id": "97b6fa5f-a95d-4459-b6f7-d7148e7e8cbf",
   "metadata": {},
   "source": [
    "Install pymaze to make sure that it is installed"
   ]
  },
  {
   "cell_type": "code",
   "execution_count": null,
   "id": "3f1a58ea-0b34-4c99-9a6e-b0aeb1bce762",
   "metadata": {},
   "outputs": [],
   "source": [
    "pip install pyamaze"
   ]
  },
  {
   "cell_type": "code",
   "execution_count": 1,
   "id": "7170b818-2652-4f42-8469-898dcac9019d",
   "metadata": {},
   "outputs": [],
   "source": [
    "from pyamaze import maze, agent, COLOR, textLabel\n",
    "from queue import PriorityQueue\n",
    "import time, random"
   ]
  },
  {
   "cell_type": "markdown",
   "id": "618929e6-b32f-449c-ba90-a89a044d8f06",
   "metadata": {},
   "source": [
    "#### Defining Heuristic Function (Manhattan Distance Function)"
   ]
  },
  {
   "cell_type": "code",
   "execution_count": 2,
   "id": "aa7bafc6-7dc3-4bfa-b035-6ccc24684a52",
   "metadata": {},
   "outputs": [],
   "source": [
    "def heuristic(cell_1, cell_2):\n",
    "    x1, y1 = cell_1\n",
    "    x2, y2 = cell_2\n",
    "    \n",
    "    return abs(x1 - x2) + abs(y1 - y2)"
   ]
  },
  {
   "cell_type": "markdown",
   "id": "40b2840d-1009-4aba-895b-aab44cefcca6",
   "metadata": {},
   "source": [
    "#### Defining Iterative Deepening Search"
   ]
  },
  {
   "cell_type": "code",
   "execution_count": 3,
   "id": "d381e35c-42ed-491b-8d7b-ceccaccc9370",
   "metadata": {},
   "outputs": [],
   "source": [
    "def iterative(m):\n",
    "    print(\"To be added soon\")\n",
    "    return"
   ]
  },
  {
   "cell_type": "markdown",
   "id": "bb44a5e8-a82d-4eff-a00d-a7430bf85ed8",
   "metadata": {},
   "source": [
    "#### Defining the A* Search Function:"
   ]
  },
  {
   "cell_type": "code",
   "execution_count": 4,
   "id": "fe514ab6-063a-4e20-b672-3f1f5af4f51f",
   "metadata": {},
   "outputs": [],
   "source": [
    "def aStarSearch(m, goal):\n",
    "    start = (m.rows, m.cols) #Change the start nodes\n",
    "    gScore = {cell: float('inf') for cell in m.grid}\n",
    "    #Initialize distance of startCell from destination Cell n\n",
    "    gScore[start] = 0\n",
    "    \n",
    "    #Total Cost to reach the goal cell combining both GScore and H Score Function\n",
    "    fScore = {cell: float('inf') for cell in m.grid}\n",
    "    fScore[start] = heuristic(start, goal) # Chabge the second parameter to the goal variable\n",
    "    \n",
    "    open = PriorityQueue()\n",
    "    \n",
    "    open.put((heuristic(start, goal), heuristic(start, goal), start))\n",
    "    \n",
    "    aPath = {} #aStar Algorithm compatible path\n",
    "    searchPath = [] #Used to find spaces that have been explored\n",
    "    \n",
    "    #print(\"Starting Queue: \", open.queue)\n",
    "    \n",
    "    #Loop Sequence\n",
    "    while not open.empty():\n",
    "        currentCell = open.get()[2] #Getting coordinates in 2nd parameter\n",
    "        searchPath.append(currentCell)\n",
    "        \n",
    "        #Replace with goal variable later on\n",
    "        if currentCell == (1,1):\n",
    "            #print(\"We reached the start Node\")\n",
    "            break\n",
    "        for direction in \"ESNW\":\n",
    "            #print(\"Direction: \", direction)\n",
    "            if m.maze_map[currentCell][direction] == True:\n",
    "                if direction == \"E\":\n",
    "                    childCell = (currentCell[0], currentCell[1] + 1 )         \n",
    "                if direction ==\"W\":\n",
    "                    childCell = (currentCell[0], currentCell[1] - 1 )\n",
    "                if direction == \"N\":\n",
    "                    childCell = (currentCell[0]-1, currentCell[1])\n",
    "                if direction == \"S\":\n",
    "                    childCell = (currentCell[0]+1, currentCell[1] )\n",
    "                    \n",
    "                temp_gScore = gScore[currentCell] + 1\n",
    "                temp_fScore = temp_gScore + heuristic(childCell, goal) #Again, replace with goal variable\n",
    "                \n",
    "                if temp_fScore < fScore[childCell]:\n",
    "                    #print(\"Founded a path: \", childCell)\n",
    "                    gScore[childCell] = temp_gScore\n",
    "                    fScore[childCell] = temp_fScore\n",
    "                    open.put((temp_fScore, heuristic(childCell, goal), childCell))\n",
    "                    aPath[childCell] = currentCell\n",
    "                \n",
    "                #else:\n",
    "                    #print(\"Skipped, path has been founded before\")\n",
    "        #print()\n",
    "            \n",
    "    #Start initialize path for agent to move\n",
    "    forwardPath = {}\n",
    "    cell = goal #Replace with goal variable\n",
    "    print(aPath)\n",
    "    print(cell)\n",
    "    #When the cell reaches the start Node, stop and return all list and dictionary\n",
    "    while cell != start:\n",
    "        forwardPath[ aPath[cell] ] = cell\n",
    "        cell = aPath[cell]\n",
    "        #print(\"Current Forward Path: \", forwardPath )\n",
    "        #print(\"Next Cell: \", cell)\n",
    "        \n",
    "    #print(\"It adds the path for the agent from the goal node to the start node\")\n",
    "    return forwardPath, aPath, searchPath            \n",
    "    "
   ]
  },
  {
   "cell_type": "markdown",
   "id": "2f38172d-ce92-482a-a3cc-e97e775d912a",
   "metadata": {},
   "source": [
    "#### Initialize a normal maze with a bit of randomness"
   ]
  },
  {
   "cell_type": "code",
   "execution_count": 5,
   "id": "1b8d6197-580d-4920-9ab9-979b21830382",
   "metadata": {},
   "outputs": [
    {
     "name": "stdout",
     "output_type": "stream",
     "text": [
      "{(9, 10): (10, 10), (8, 10): (9, 10), (9, 9): (9, 10), (7, 10): (8, 10), (8, 9): (8, 10), (6, 10): (7, 10), (7, 9): (7, 10), (5, 10): (6, 10), (4, 10): (5, 10), (5, 9): (5, 10), (4, 9): (4, 10), (3, 9): (4, 9), (4, 8): (4, 9), (3, 10): (3, 9), (2, 9): (3, 9), (1, 9): (2, 9), (2, 8): (2, 9), (3, 8): (4, 8), (1, 8): (2, 8), (4, 7): (4, 8), (3, 7): (3, 8), (2, 7): (3, 7), (3, 6): (3, 7), (1, 7): (2, 7), (2, 6): (3, 6), (1, 6): (2, 6), (4, 6): (4, 7), (5, 6): (5, 7), (6, 9): (5, 9), (5, 8): (5, 9), (6, 8): (7, 8), (5, 7): (5, 8), (6, 6): (5, 6), (7, 8): (7, 9), (6, 7): (6, 8), (7, 7): (6, 7), (8, 8): (8, 9), (8, 7): (8, 8), (9, 7): (9, 8), (10, 9): (9, 9), (9, 8): (9, 9), (10, 7): (9, 7), (1, 5): (1, 6), (2, 5): (1, 5), (1, 10): (1, 9), (7, 6): (7, 7), (6, 5): (6, 6), (5, 5): (6, 5), (4, 5): (5, 5), (4, 4): (4, 5), (2, 10): (3, 10), (8, 6): (7, 6), (7, 5): (7, 6), (10, 8): (10, 9), (10, 6): (10, 7), (10, 5): (10, 6), (9, 5): (10, 5), (9, 6): (9, 5), (8, 5): (9, 5), (9, 4): (9, 5), (8, 4): (8, 5), (3, 4): (4, 4), (4, 3): (4, 4), (3, 5): (3, 4), (2, 4): (3, 4), (1, 4): (2, 4), (7, 4): (8, 4), (6, 4): (7, 4), (5, 4): (6, 4), (6, 3): (6, 4), (10, 4): (9, 4), (1, 3): (1, 4), (5, 3): (6, 3), (4, 2): (4, 3), (10, 3): (10, 4), (2, 3): (1, 3), (1, 2): (1, 3), (3, 3): (3, 2), (3, 2): (4, 2), (4, 1): (4, 2), (9, 3): (10, 3), (10, 2): (10, 3), (8, 3): (9, 3), (9, 2): (9, 3), (7, 3): (8, 3), (8, 2): (8, 3), (7, 2): (7, 3), (2, 2): (1, 2), (2, 1): (3, 1), (5, 1): (4, 1), (3, 1): (4, 1), (1, 1): (2, 1), (7, 1): (7, 2), (8, 1): (8, 2), (9, 1): (9, 2), (10, 1): (10, 2)}\n",
      "(2, 5)\n",
      "{(9, 10): (10, 10), (8, 10): (9, 10), (9, 9): (9, 10), (7, 10): (8, 10), (8, 9): (8, 10), (6, 10): (7, 10), (7, 9): (7, 10), (5, 10): (6, 10), (4, 10): (5, 10), (5, 9): (5, 10), (6, 9): (5, 9), (5, 8): (5, 9), (6, 8): (7, 8), (5, 7): (5, 8), (5, 6): (5, 7), (6, 6): (5, 6), (4, 6): (5, 6), (7, 8): (7, 9), (6, 7): (6, 8), (7, 7): (6, 7), (8, 8): (8, 9), (8, 7): (8, 8), (9, 7): (9, 8), (10, 9): (9, 9), (9, 8): (9, 9), (10, 7): (9, 7), (4, 7): (4, 8), (7, 6): (7, 7), (6, 5): (6, 6), (5, 5): (6, 5), (4, 5): (5, 5), (8, 6): (7, 6), (7, 5): (7, 6), (4, 9): (4, 10), (3, 9): (4, 9), (4, 8): (4, 9), (3, 8): (4, 8), (10, 8): (10, 9), (10, 6): (10, 7), (10, 5): (10, 6), (9, 5): (10, 5), (9, 6): (9, 5), (8, 5): (9, 5), (9, 4): (9, 5), (8, 4): (8, 5), (4, 4): (4, 5), (7, 4): (8, 4), (6, 4): (7, 4), (5, 4): (6, 4), (6, 3): (6, 4), (2, 8): (3, 8), (3, 7): (3, 8), (2, 7): (3, 7), (3, 6): (3, 7), (2, 6): (3, 6), (10, 4): (9, 4), (3, 10): (3, 9), (2, 9): (3, 9), (3, 4): (4, 4), (4, 3): (4, 4), (5, 3): (6, 3), (1, 6): (2, 6), (1, 7): (2, 7), (1, 8): (2, 8), (10, 3): (10, 4), (1, 9): (2, 9), (2, 10): (3, 10), (3, 5): (3, 4), (2, 4): (3, 4), (4, 2): (4, 3), (1, 5): (1, 6), (2, 5): (1, 5), (9, 3): (10, 3), (10, 2): (10, 3), (8, 3): (9, 3), (9, 2): (9, 3), (7, 3): (8, 3), (8, 2): (8, 3), (7, 2): (7, 3), (1, 10): (1, 9), (1, 4): (2, 4), (3, 2): (4, 2), (4, 1): (4, 2), (7, 1): (7, 2), (8, 1): (8, 2), (9, 1): (9, 2), (10, 1): (10, 2), (1, 3): (1, 4), (3, 3): (3, 2), (2, 3): (3, 3), (5, 1): (4, 1), (3, 1): (4, 1), (5, 2): (5, 1), (6, 2): (6, 1), (6, 1): (7, 1), (1, 2): (1, 3), (2, 1): (3, 1), (2, 2): (1, 2), (1, 1): (2, 1)}\n",
      "(5, 5)\n",
      "{(9, 10): (10, 10), (8, 10): (9, 10), (9, 9): (9, 10), (7, 10): (8, 10), (8, 9): (8, 10), (8, 8): (8, 9), (8, 7): (8, 8), (9, 7): (9, 8), (10, 9): (9, 9), (9, 8): (9, 9), (10, 7): (9, 7), (10, 8): (10, 9), (10, 6): (10, 7), (10, 5): (10, 6), (9, 5): (10, 5), (9, 6): (9, 5), (8, 5): (9, 5), (9, 4): (9, 5), (8, 6): (8, 5), (8, 4): (8, 5), (7, 4): (8, 4), (10, 4): (9, 4), (6, 10): (7, 10), (7, 9): (7, 10), (7, 8): (7, 9), (6, 8): (7, 8), (6, 4): (7, 4), (7, 6): (7, 7), (10, 3): (10, 4), (9, 3): (10, 3), (10, 2): (10, 3), (8, 3): (9, 3), (9, 2): (9, 3), (7, 3): (8, 3), (8, 2): (8, 3), (8, 1): (8, 2), (9, 1): (9, 2), (7, 1): (8, 1), (10, 1): (10, 2), (5, 8): (6, 8), (6, 7): (6, 8), (7, 7): (6, 7), (6, 6): (7, 6), (7, 5): (7, 6), (5, 10): (6, 10), (7, 2): (7, 3), (6, 1): (7, 1), (5, 4): (6, 4), (6, 3): (6, 4), (5, 3): (6, 3), (5, 6): (5, 7), (6, 5): (6, 6), (5, 5): (6, 5), (5, 9): (5, 10), (5, 7): (5, 8), (4, 6): (5, 6), (4, 10): (5, 10), (6, 9): (5, 9), (6, 2): (6, 1), (4, 3): (5, 3), (4, 5): (5, 5), (4, 7): (4, 8), (4, 9): (4, 10), (3, 9): (4, 9), (4, 8): (4, 9), (3, 8): (4, 8), (5, 2): (6, 2), (4, 4): (4, 5), (4, 2): (4, 3), (3, 2): (4, 2), (4, 1): (4, 2), (5, 1): (4, 1), (3, 1): (4, 1), (3, 4): (4, 4), (2, 8): (3, 8), (3, 7): (3, 8), (2, 7): (3, 7), (3, 6): (3, 7), (2, 6): (3, 6), (3, 10): (3, 9), (2, 9): (3, 9), (2, 1): (3, 1), (3, 3): (3, 2), (3, 5): (3, 4), (2, 4): (3, 4), (1, 6): (2, 6), (1, 7): (2, 7), (1, 8): (2, 8), (1, 9): (2, 9), (2, 10): (3, 10), (2, 2): (2, 1), (1, 1): (2, 1), (2, 3): (3, 3), (1, 4): (2, 4), (1, 5): (1, 6), (2, 5): (1, 5), (1, 10): (1, 9)}\n",
      "(8, 1)\n",
      "\n",
      "Time taken for A* Search A to finish:  0.0015148000000024808  seconds\n",
      "Time taken for A* Search B to finish:  0.0013626000000002136  seconds\n",
      "Goal 1 Manually Generated:  (2, 5)\n",
      "Goal 2 Randomly Generated:  (5, 5)\n",
      "Goal 3 Randomly Generated:  (8, 1)\n"
     ]
    },
    {
     "name": "stderr",
     "output_type": "stream",
     "text": [
      "Exception in Tkinter callback\n",
      "Traceback (most recent call last):\n",
      "  File \"C:\\Users\\darre\\anaconda3\\lib\\tkinter\\__init__.py\", line 1892, in __call__\n",
      "    return self.func(*args)\n",
      "  File \"C:\\Users\\darre\\anaconda3\\lib\\tkinter\\__init__.py\", line 814, in callit\n",
      "    func(*args)\n",
      "  File \"C:\\Users\\darre\\anaconda3\\lib\\site-packages\\pyamaze\\pyamaze.py\", line 772, in _tracePathSingle\n",
      "    a.x,a.y=p[(a.x,a.y)]\n",
      "KeyError: (5, 5)\n"
     ]
    },
    {
     "ename": "KeyboardInterrupt",
     "evalue": "",
     "output_type": "error",
     "traceback": [
      "\u001b[1;31m---------------------------------------------------------------------------\u001b[0m",
      "\u001b[1;31mKeyboardInterrupt\u001b[0m                         Traceback (most recent call last)",
      "\u001b[1;32m~\\AppData\\Local\\Temp/ipykernel_24224/2638651367.py\u001b[0m in \u001b[0;36m<module>\u001b[1;34m\u001b[0m\n\u001b[0;32m     56\u001b[0m \u001b[1;33m\u001b[0m\u001b[0m\n\u001b[0;32m     57\u001b[0m \u001b[1;33m\u001b[0m\u001b[0m\n\u001b[1;32m---> 58\u001b[1;33m \u001b[0mm\u001b[0m\u001b[1;33m.\u001b[0m\u001b[0mrun\u001b[0m\u001b[1;33m(\u001b[0m\u001b[1;33m)\u001b[0m\u001b[1;33m\u001b[0m\u001b[1;33m\u001b[0m\u001b[0m\n\u001b[0m",
      "\u001b[1;32m~\\anaconda3\\lib\\site-packages\\pyamaze\\pyamaze.py\u001b[0m in \u001b[0;36mrun\u001b[1;34m(self)\u001b[0m\n\u001b[0;32m    892\u001b[0m         \u001b[0mFinally\u001b[0m \u001b[0mto\u001b[0m \u001b[0mrun\u001b[0m \u001b[0mthe\u001b[0m \u001b[0mTkinter\u001b[0m \u001b[0mMain\u001b[0m \u001b[0mLoop\u001b[0m\u001b[1;33m\u001b[0m\u001b[1;33m\u001b[0m\u001b[0m\n\u001b[0;32m    893\u001b[0m         '''\n\u001b[1;32m--> 894\u001b[1;33m         \u001b[0mself\u001b[0m\u001b[1;33m.\u001b[0m\u001b[0m_win\u001b[0m\u001b[1;33m.\u001b[0m\u001b[0mmainloop\u001b[0m\u001b[1;33m(\u001b[0m\u001b[1;33m)\u001b[0m\u001b[1;33m\u001b[0m\u001b[1;33m\u001b[0m\u001b[0m\n\u001b[0m",
      "\u001b[1;32m~\\anaconda3\\lib\\tkinter\\__init__.py\u001b[0m in \u001b[0;36mmainloop\u001b[1;34m(self, n)\u001b[0m\n\u001b[0;32m   1427\u001b[0m     \u001b[1;32mdef\u001b[0m \u001b[0mmainloop\u001b[0m\u001b[1;33m(\u001b[0m\u001b[0mself\u001b[0m\u001b[1;33m,\u001b[0m \u001b[0mn\u001b[0m\u001b[1;33m=\u001b[0m\u001b[1;36m0\u001b[0m\u001b[1;33m)\u001b[0m\u001b[1;33m:\u001b[0m\u001b[1;33m\u001b[0m\u001b[1;33m\u001b[0m\u001b[0m\n\u001b[0;32m   1428\u001b[0m         \u001b[1;34m\"\"\"Call the mainloop of Tk.\"\"\"\u001b[0m\u001b[1;33m\u001b[0m\u001b[1;33m\u001b[0m\u001b[0m\n\u001b[1;32m-> 1429\u001b[1;33m         \u001b[0mself\u001b[0m\u001b[1;33m.\u001b[0m\u001b[0mtk\u001b[0m\u001b[1;33m.\u001b[0m\u001b[0mmainloop\u001b[0m\u001b[1;33m(\u001b[0m\u001b[0mn\u001b[0m\u001b[1;33m)\u001b[0m\u001b[1;33m\u001b[0m\u001b[1;33m\u001b[0m\u001b[0m\n\u001b[0m\u001b[0;32m   1430\u001b[0m \u001b[1;33m\u001b[0m\u001b[0m\n\u001b[0;32m   1431\u001b[0m     \u001b[1;32mdef\u001b[0m \u001b[0mquit\u001b[0m\u001b[1;33m(\u001b[0m\u001b[0mself\u001b[0m\u001b[1;33m)\u001b[0m\u001b[1;33m:\u001b[0m\u001b[1;33m\u001b[0m\u001b[1;33m\u001b[0m\u001b[0m\n",
      "\u001b[1;31mKeyboardInterrupt\u001b[0m: "
     ]
    }
   ],
   "source": [
    "#initialize rows, columns and loopPercentage\n",
    "a = 10\n",
    "b = 10\n",
    "loopPercentageC = 50\n",
    "goal1_x, goal1_y = 2,5\n",
    "\n",
    "m = maze(a, b)\n",
    "goal1 = goal1_x, goal1_y\n",
    "goal2 = random.choice(m.grid)\n",
    "goal3 = random.choice(m.grid)\n",
    "\n",
    "m.CreateMaze(goal1_x, goal1_y,loopPercent=loopPercentageC)\n",
    "\n",
    "#Initialze Paths and Agent\n",
    "#Search Time record 1\n",
    "start_timeA = time.perf_counter()\n",
    "pathAStar = aStarSearch(m, goal1)\n",
    "end_timeA = time.perf_counter()\n",
    "\n",
    "\n",
    "#Search Time B - Got problems still\n",
    "start_timeB = time.perf_counter()\n",
    "pathAStar2 = aStarSearch(m, goal2)\n",
    "end_timeB = time.perf_counter()\n",
    "\n",
    "\n",
    "pathAStar3 = aStarSearch(m, goal3)\n",
    "\n",
    "\n",
    "agentA = agent(m, footprints = True)\n",
    "agentB = agent(m, footprints = True, color = COLOR.red)\n",
    "\n",
    "agentAStarPath = agent(m, footprints = True, color=COLOR.yellow, filled = True)\n",
    "\n",
    "#Trace the paths\n",
    "m.tracePath({agentAStarPath: pathAStar[2]}, showMarked = True, delay = 500)\n",
    "\n",
    "#Trace the agent movement\n",
    "\n",
    "m.tracePath({agentA: pathAStar[0]})\n",
    "\n",
    "\n",
    "#Trace the agent movement, i don't think this is the way to track the time taken\n",
    "\n",
    "m.tracePath({agentB: pathAStar2[0]}, kill = True)\n",
    "\n",
    "#Print all here!\n",
    "print()\n",
    "print(\"Time taken for A* Search A to finish: \", end_timeA - start_timeA, \" seconds\")\n",
    "print(\"Time taken for A* Search B to finish: \", end_timeB - start_timeB, \" seconds\")\n",
    "\n",
    "print(\"Goal 1 Manually Generated: \", goal1)\n",
    "print(\"Goal 2 Randomly Generated: \", goal2)\n",
    "print(\"Goal 3 Randomly Generated: \", goal3)\n",
    "\n",
    "\n",
    "\n",
    "m.run()"
   ]
  },
  {
   "cell_type": "code",
   "execution_count": null,
   "id": "0e2425ed-5275-4250-8d8e-a2fad1ac8cfb",
   "metadata": {},
   "outputs": [],
   "source": [
    "print(str(m.cols) + \" and \" + str(m.rows))"
   ]
  },
  {
   "cell_type": "markdown",
   "id": "d8a50c91-d82c-4823-926c-8c6e7fd0c12e",
   "metadata": {},
   "source": [
    "## Maze 2 - Iterative Deepening Search or Iterative Deepening A* Search"
   ]
  },
  {
   "cell_type": "code",
   "execution_count": null,
   "id": "75f2a17a-c3ea-4da2-8c22-a567fe1ed845",
   "metadata": {},
   "outputs": [],
   "source": []
  }
 ],
 "metadata": {
  "kernelspec": {
   "display_name": "Python 3 (ipykernel)",
   "language": "python",
   "name": "python3"
  },
  "language_info": {
   "codemirror_mode": {
    "name": "ipython",
    "version": 3
   },
   "file_extension": ".py",
   "mimetype": "text/x-python",
   "name": "python",
   "nbconvert_exporter": "python",
   "pygments_lexer": "ipython3",
   "version": "3.9.7"
  }
 },
 "nbformat": 4,
 "nbformat_minor": 5
}
