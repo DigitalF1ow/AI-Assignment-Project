{
 "cells": [
  {
   "cell_type": "markdown",
   "id": "064d6a0b-770b-45d9-89f9-d97adab63cb6",
   "metadata": {},
   "source": [
    "# **Artificial Intelligence Programming Assignment Question 2**\n",
    "Group Members:\n",
    "- Darren Abbot ak Manggon, 11811011274\n",
    "- Tuan Arif Uwais, 1181101025\n",
    "- Puteri Nurul Izzah, 1181100771"
   ]
  },
  {
   "cell_type": "markdown",
   "id": "8406b78f-91a7-4e43-8acd-50ceb975bb88",
   "metadata": {},
   "source": [
    "## Pymaze Initialization and 5 Mazes Needed to be created and track time to plot the search the entire maze"
   ]
  },
  {
   "cell_type": "markdown",
   "id": "41ae9f57-6674-4301-be5c-cb75facca2be",
   "metadata": {},
   "source": [
    "- ensure that variable a and variable b is more or equal to 10 for the maze size.\n",
    "- start and goal can be anywhere in the maze\n",
    "- make sure to import the local pyamaze module into the package\n",
    "- The goal will change in run-time, so the searching algorithm will change accordingly."
   ]
  },
  {
   "cell_type": "markdown",
   "id": "f3fb1957-2916-4ef4-8395-24e7f5226a63",
   "metadata": {},
   "source": [
    "## Maze 1 - A-Star Search"
   ]
  },
  {
   "cell_type": "markdown",
   "id": "97b6fa5f-a95d-4459-b6f7-d7148e7e8cbf",
   "metadata": {},
   "source": [
    "Install pymaze to make sure that it is installed"
   ]
  },
  {
   "cell_type": "code",
   "execution_count": null,
   "id": "3f1a58ea-0b34-4c99-9a6e-b0aeb1bce762",
   "metadata": {},
   "outputs": [],
   "source": [
    "pip install pyamaze"
   ]
  },
  {
   "cell_type": "code",
   "execution_count": 1,
   "id": "7170b818-2652-4f42-8469-898dcac9019d",
   "metadata": {},
   "outputs": [],
   "source": [
    "from pyamaze import maze, agent, COLOR, textLabel\n",
    "from queue import PriorityQueue\n",
    "import time, random, threading"
   ]
  },
  {
   "cell_type": "code",
   "execution_count": 2,
   "id": "c961b8fe-d6fe-4af3-b684-ea3a9e0ba1f6",
   "metadata": {},
   "outputs": [],
   "source": [
    "#### Declaring Global Variables\n",
    "selectedGoals = [(1,1), (2,3), (5,5)]\n",
    "currentGoal = selectedGoals[0]\n",
    "\n",
    "def changeGoal(newGoalX, newGoalY):\n",
    "    print(\"Coordinate: \" + str(newGoalX) + \" Coordinate Y: \" + str(newGoalY))\n",
    "    global currentGoal\n",
    "    currentGoal = newGoalX, newGoalY\n",
    "    print(currentGoal)\n",
    "    return"
   ]
  },
  {
   "cell_type": "markdown",
   "id": "618929e6-b32f-449c-ba90-a89a044d8f06",
   "metadata": {
    "tags": []
   },
   "source": [
    "#### Defining Heuristic Function (Manhattan Distance Function)"
   ]
  },
  {
   "cell_type": "code",
   "execution_count": 3,
   "id": "aa7bafc6-7dc3-4bfa-b035-6ccc24684a52",
   "metadata": {},
   "outputs": [],
   "source": [
    "def heuristic(cell_1, cell_2):\n",
    "    x1, y1 = cell_1\n",
    "    x2, y2 = cell_2\n",
    "    \n",
    "    return abs(x1 - x2) + abs(y1 - y2)"
   ]
  },
  {
   "cell_type": "markdown",
   "id": "96480fc7-06f6-4754-b530-b810b2091dc0",
   "metadata": {},
   "source": [
    "#### Generating Neighbouring Maze Location for Iterative Deepening Search Usage"
   ]
  },
  {
   "cell_type": "code",
   "execution_count": 4,
   "id": "249fd753-c9d0-42c0-a979-23c3f389e9e5",
   "metadata": {
    "tags": []
   },
   "outputs": [],
   "source": [
    "def generateNeighbours(m):\n",
    "    start=(m.rows, m.cols)\n",
    "    frontier = [start]\n",
    "    neighbours = {}\n",
    "    explored = [start]\n",
    "    \n",
    "    #Requires usage of DBS\n",
    "    while len(frontier) > 0:\n",
    "        currentCell= frontier.pop()\n",
    "        \n",
    "        list_neighbours = []\n",
    "        for direction in \"ESNW\":\n",
    "            if m.maze_map[currentCell][direction]==True:\n",
    "                if direction == \"E\":\n",
    "                    childCell = (currentCell[0], currentCell[1] + 1 )\n",
    "                    neighbours[currentCell] = childCell\n",
    "                elif direction == \"W\":\n",
    "                    childCell = (currentCell[0], currentCell[1] - 1 )\n",
    "                elif direction == \"S\":\n",
    "                    childCell = (currentCell[0]+1, currentCell[1] )\n",
    "                elif direction == \"N\":\n",
    "                    childCell = (currentCell[0]-1, currentCell[1])\n",
    "                \n",
    "                list_neighbours.append(childCell)\n",
    "                if childCell in explored:\n",
    "                    continue\n",
    "                \n",
    "                explored.append(childCell)\n",
    "                frontier.append(childCell)\n",
    "                \n",
    "                #print(\"frontier =\", frontier)\n",
    "                #print(\"explored =\", explored)\n",
    "                #print(\"Current Cell: \", currentCell)\n",
    "        \n",
    "        #print(\"Neighbours around: \", list_neighbours)\n",
    "        copyNeighbours = []\n",
    "        for neighbour in list_neighbours:\n",
    "            if currentCell in neighbours and type(neighbours.setdefault(currentCell, [])) is list :\n",
    "                #It finds the value with the currentNode and appends the neighbour into it\n",
    "                #print(neighbours.setdefault(currentCell, []))\n",
    "                #print(type(neighbours.setdefault(currentCell, [])))\n",
    "                neighbours.setdefault(currentCell, []).append(neighbour)\n",
    "            else:\n",
    "                neighbours[currentCell] = [neighbour]\n",
    "                copyNeighbours.extend(neighbours[currentCell])\n",
    "        \n",
    "        \n",
    "        #print()\n",
    "    #print(\"Neighbours: \", neighbours)        \n",
    "    return neighbours"
   ]
  },
  {
   "cell_type": "markdown",
   "id": "25add30e-4512-40e0-bcae-87364ef937b1",
   "metadata": {},
   "source": [
    "#### New Iterative Deepening Search Algorithm"
   ]
  },
  {
   "cell_type": "code",
   "execution_count": 5,
   "id": "e4ec52f9-7c78-4901-b441-ec41702ee449",
   "metadata": {},
   "outputs": [],
   "source": [
    "#Make sure to understand the pseudocode concept!\n",
    "def function_IDSA(maze, start, goal):\n",
    "    agentPath = {}\n",
    "    visitedPath = []\n",
    "    #Set limit for the range in case we put limits to our maze\n",
    "    \n",
    "    for depth in range(100):\n",
    "        start_timeB = time.perf_counter()\n",
    "        steps = recursiveIDS(maze, start, goal, depth, visitedPath, agentPath)\n",
    "        #print(\"Depths: \", depth)\n",
    "        \n",
    "        #If steps does not return false, confirmed to be the goal cell\n",
    "        if steps is not False:\n",
    "            #print(depth + 1, \" Steps\")\n",
    "            #print(\"Boolean of Steps?: \", steps)\n",
    "            #print(\"Agent Paths: \", agentPath)\n",
    "            break\n",
    "        #Else, empty the vistied path and declare it impossible\n",
    "        else:\n",
    "            visitedPath = []\n",
    "    end_timeB = time.perf_counter() \n",
    "        #return the fwdPath and the search Path of how it works\n",
    "    \n",
    "    totalTime = end_timeB - start_timeB\n",
    "    return agentPath, depth, visitedPath, totalTime\n",
    "\n",
    "def recursiveIDS(maze, currentCell, goal, depth, visitedPath, agentPath):\n",
    "    visitedPath.append(currentCell)\n",
    "    #print(\"Search Paths: \", visitedPath)\n",
    "    #print(\"Current Parent: \", currentCell)\n",
    "    \n",
    "    if currentCell == goal:\n",
    "        #print(depth)\n",
    "        #print(\"We have found the goal!\")\n",
    "        return(currentCell)\n",
    "    elif depth == 0:\n",
    "        #print(\"Goal not founded yet\")\n",
    "        \n",
    "        return False\n",
    "    else:\n",
    "        val = False\n",
    "        \n",
    "        #For each neighbour that it explores, it will return the path that will be used for the agent to move into\n",
    "        for neighbour in maze[currentCell]:\n",
    "            if neighbour not in visitedPath and val is False:\n",
    "                val = recursiveIDS(maze, neighbour, goal, depth-1, visitedPath, agentPath)\n",
    "                #print(\"Boolean: \", val)\n",
    "        \n",
    "        #Will only execute once it finds the goal cell and returns the previous paths in recursive function\n",
    "        if val is not False:\n",
    "            #print (\"Value: \" + str(val) + \":\" + str(currentCell))\n",
    "            agentPath[currentCell] = val\n",
    "            return currentCell\n",
    "            #In the future, return the path itself since this determines the fwdPath for the agent\n",
    "        \n",
    "        return False\n",
    "    \n",
    "        \n"
   ]
  },
  {
   "cell_type": "markdown",
   "id": "bb44a5e8-a82d-4eff-a00d-a7430bf85ed8",
   "metadata": {
    "tags": []
   },
   "source": [
    "#### Defining the A* Search Function:"
   ]
  },
  {
   "cell_type": "code",
   "execution_count": 6,
   "id": "fe514ab6-063a-4e20-b672-3f1f5af4f51f",
   "metadata": {
    "tags": []
   },
   "outputs": [],
   "source": [
    "def aStarSearch(m, goal):\n",
    "    print(threading.enumerate())\n",
    "    start = (m.rows, m.cols) #Change the start nodes\n",
    "    gScore = {cell: float('inf') for cell in m.grid}\n",
    "    #Initialize distance of startCell from destination Cell n\n",
    "    gScore[start] = 0\n",
    "    trueGoal = True\n",
    "    lastCoordinate = None\n",
    "    \n",
    "    #Total Cost to reach the goal cell combining both GScore and H Score Function\n",
    "    fScore = {cell: float('inf') for cell in m.grid}\n",
    "    fScore[start] = heuristic(start, goal) # Chabge the second parameter to the goal variable\n",
    "    \n",
    "    open = PriorityQueue()\n",
    "    \n",
    "    open.put((heuristic(start, goal), heuristic(start, goal), start))\n",
    "    \n",
    "    aPath = {} # aStar Algorithm compatible path\n",
    "    searchPath = [] # Used to find spaces that have been explored\n",
    "    \n",
    "    #print(\"Starting Queue: \", open.queue)\n",
    "    \n",
    "    #Loop Sequence\n",
    "    while not open.empty():\n",
    "        currentCell = open.get()[2] #Getting coordinates in 2nd parameter\n",
    "        searchPath.append(currentCell)\n",
    "        \n",
    "        if currentCell == goal:\n",
    "            break\n",
    "        for direction in \"ESNW\":\n",
    "            #print(\"Direction: \", direction)\n",
    "            if m.maze_map[currentCell][direction] == True:\n",
    "                if direction == \"E\":\n",
    "                    childCell = (currentCell[0], currentCell[1] + 1 )         \n",
    "                if direction ==\"W\":\n",
    "                    childCell = (currentCell[0], currentCell[1] - 1 )\n",
    "                if direction == \"N\":\n",
    "                    childCell = (currentCell[0]-1, currentCell[1] )\n",
    "                if direction == \"S\":\n",
    "                    childCell = (currentCell[0]+1, currentCell[1] )\n",
    "                    \n",
    "                temp_gScore = gScore[currentCell] + 1\n",
    "                temp_fScore = temp_gScore + heuristic(childCell, goal) #Again, replace with goal variable\n",
    "                \n",
    "                if temp_fScore < fScore[childCell]:\n",
    "                    #print(\"Founded a path: \", childCell)\n",
    "                    gScore[childCell] = temp_gScore\n",
    "                    fScore[childCell] = temp_fScore\n",
    "                    open.put((temp_fScore, heuristic(childCell, goal), childCell))\n",
    "                    aPath[childCell] = currentCell\n",
    "                    \n",
    "                    #print(\"Goal That was passed: \", goal)\n",
    "                    #print(\"Current Goal: \", currentGoal)\n",
    "                    #Check if the goal from global is changed suddenly\n",
    "                    if currentGoal != goal:\n",
    "\n",
    "                        trueGoal = False\n",
    "                        lastCoordinate = currentCell\n",
    "                        break\n",
    "                        \n",
    "        if trueGoal == False:\n",
    "            break\n",
    "        \n",
    "    if trueGoal == False:\n",
    "        #print(\"Goal has changed, time to change\")\n",
    "        return lastCoordinate, aPath, searchPath, trueGoal\n",
    "    else:\n",
    "        #Start initialize path for agent to move\n",
    "        forwardPath = {}\n",
    "        cell = goal #Replace with goal variable\n",
    "\n",
    "        while cell != start:\n",
    "            forwardPath[ aPath[cell] ] = cell\n",
    "            cell = aPath[cell]\n",
    "\n",
    "        return forwardPath, aPath, searchPath, trueGoal    \n",
    "            \n",
    "           \n",
    "    "
   ]
  },
  {
   "cell_type": "markdown",
   "id": "2f38172d-ce92-482a-a3cc-e97e775d912a",
   "metadata": {},
   "source": [
    "#### Initialize a normal maze with a bit of randomness"
   ]
  },
  {
   "cell_type": "code",
   "execution_count": 8,
   "id": "1b8d6197-580d-4920-9ab9-979b21830382",
   "metadata": {},
   "outputs": [
    {
     "name": "stdout",
     "output_type": "stream",
     "text": [
      "[(1, 1), (2, 3), (5, 5)]\n",
      "1\n"
     ]
    },
    {
     "ename": "AssertionError",
     "evalue": "group argument must be None for now",
     "output_type": "error",
     "traceback": [
      "\u001b[1;31m---------------------------------------------------------------------------\u001b[0m",
      "\u001b[1;31mAssertionError\u001b[0m                            Traceback (most recent call last)",
      "\u001b[1;32m~\\AppData\\Local\\Temp/ipykernel_14504/1365543998.py\u001b[0m in \u001b[0;36m<module>\u001b[1;34m\u001b[0m\n\u001b[0;32m     20\u001b[0m     \u001b[1;32mif\u001b[0m \u001b[0mindex\u001b[0m \u001b[1;33m<\u001b[0m \u001b[1;36m3\u001b[0m\u001b[1;33m:\u001b[0m\u001b[1;33m\u001b[0m\u001b[1;33m\u001b[0m\u001b[0m\n\u001b[0;32m     21\u001b[0m         \u001b[1;31m#print(\"Selected Index: \", selectedGoals[index])\u001b[0m\u001b[1;33m\u001b[0m\u001b[1;33m\u001b[0m\u001b[0m\n\u001b[1;32m---> 22\u001b[1;33m         \u001b[0mexecuteRandom\u001b[0m \u001b[1;33m=\u001b[0m \u001b[0mthreading\u001b[0m\u001b[1;33m.\u001b[0m\u001b[0mThread\u001b[0m\u001b[1;33m(\u001b[0m\u001b[0mchangeGoal\u001b[0m\u001b[1;33m,\u001b[0m \u001b[0mselectedGoals\u001b[0m\u001b[1;33m[\u001b[0m\u001b[0mindex\u001b[0m\u001b[1;33m]\u001b[0m\u001b[1;33m)\u001b[0m\u001b[1;33m\u001b[0m\u001b[1;33m\u001b[0m\u001b[0m\n\u001b[0m\u001b[0;32m     23\u001b[0m         \u001b[0mexecuteRandom\u001b[0m\u001b[1;33m.\u001b[0m\u001b[0mname\u001b[0m \u001b[1;33m=\u001b[0m \u001b[1;34m\"random function\"\u001b[0m\u001b[1;33m\u001b[0m\u001b[1;33m\u001b[0m\u001b[0m\n\u001b[0;32m     24\u001b[0m         \u001b[0mexecuteRandom\u001b[0m \u001b[1;33m=\u001b[0m \u001b[0mexecuteRandom\u001b[0m\u001b[1;33m.\u001b[0m\u001b[0mstart\u001b[0m\u001b[1;33m(\u001b[0m\u001b[1;33m)\u001b[0m\u001b[1;33m\u001b[0m\u001b[1;33m\u001b[0m\u001b[0m\n",
      "\u001b[1;32m~\\anaconda3\\lib\\threading.py\u001b[0m in \u001b[0;36m__init__\u001b[1;34m(self, group, target, name, args, kwargs, daemon)\u001b[0m\n\u001b[0;32m    816\u001b[0m \u001b[1;33m\u001b[0m\u001b[0m\n\u001b[0;32m    817\u001b[0m         \"\"\"\n\u001b[1;32m--> 818\u001b[1;33m         \u001b[1;32massert\u001b[0m \u001b[0mgroup\u001b[0m \u001b[1;32mis\u001b[0m \u001b[1;32mNone\u001b[0m\u001b[1;33m,\u001b[0m \u001b[1;34m\"group argument must be None for now\"\u001b[0m\u001b[1;33m\u001b[0m\u001b[1;33m\u001b[0m\u001b[0m\n\u001b[0m\u001b[0;32m    819\u001b[0m         \u001b[1;32mif\u001b[0m \u001b[0mkwargs\u001b[0m \u001b[1;32mis\u001b[0m \u001b[1;32mNone\u001b[0m\u001b[1;33m:\u001b[0m\u001b[1;33m\u001b[0m\u001b[1;33m\u001b[0m\u001b[0m\n\u001b[0;32m    820\u001b[0m             \u001b[0mkwargs\u001b[0m \u001b[1;33m=\u001b[0m \u001b[1;33m{\u001b[0m\u001b[1;33m}\u001b[0m\u001b[1;33m\u001b[0m\u001b[1;33m\u001b[0m\u001b[0m\n",
      "\u001b[1;31mAssertionError\u001b[0m: group argument must be None for now"
     ]
    }
   ],
   "source": [
    "#initialize rows, columns and loopPercentage\n",
    "a = 10\n",
    "b = 10\n",
    "loopPercentageC = 20\n",
    "goal1_x, goal1_y = 1,1\n",
    "\n",
    "m = maze(a,b)\n",
    "goal1 = goal1_x, goal1_y\n",
    "\n",
    "m.CreateMaze(currentGoal[0], currentGoal[1], loopPercent = loopPercentageC)\n",
    "\n",
    "arrayAStarFeedback = []\n",
    "\n",
    "print(selectedGoals)\n",
    "index = 1\n",
    "\n",
    "\n",
    "while True:\n",
    "    print(index)\n",
    "    if index < 3:\n",
    "        #print(\"Selected Index: \", selectedGoals[index])\n",
    "        executeRandom = threading.Thread(target = changeGoal, args = (selectedGoals[index][0], electedGoals[index][1]))\n",
    "        executeRandom.name = \"random function\"\n",
    "        executeRandom = executeRandom.start()\n",
    "        #print(\"Index Value: \", index)\n",
    "   \n",
    "    #print(\"Index: \" + str(index) + \", selected goal: \", str(selectedGoals[index]))\n",
    "    if 'm' not in globals():\n",
    "        m = maze(a,b)\n",
    "        m.CreateMaze(currentGoal[0], currentGoal[1], loopPercent = loopPercentageC)\n",
    "        print(\"Maze is re-created\")\n",
    "        \n",
    "    mazeNeighbours = generateNeighbours(m)\n",
    "    \n",
    "    \n",
    "    start_timeA = time.perf_counter()\n",
    "    pathAStar = aStarSearch(m , currentGoal)\n",
    "    end_timeA = time.perf_counter()\n",
    "    \n",
    "    print(\"Time taken for A* Search A to finish: \", end_timeA - start_timeA, \" seconds\")\n",
    "    \n",
    "    if pathAStar[3] == True and currentGoal :\n",
    "        print(\"We got the goal!\")\n",
    "        arrayAStarFeedback.append(pathAStar)\n",
    "        break\n",
    "    else:\n",
    "        print(\"Nope, the goal changed, time to store\")\n",
    "        m.__del__()\n",
    "        arrayAStarFeedback.append(pathAStar)\n",
    "        print(arrayAStarFeedback[index-1][0])\n",
    "        del m, pathAStar\n",
    "        index += 1\n",
    "        \n",
    "\n",
    "\n",
    "\"\"\"\n",
    "arrayFunctions = [aStarSearch (), aStarSearch (), aStarSearch ()]\n",
    "\n",
    "for each loop == True and len(arrayFunction) not more than 3:\n",
    "\n",
    "    m = maze(row, col)\n",
    "    m.CreateMaze(goal_x, goal_y,loopPercent=loopPercentageC)\n",
    "    \n",
    "    if(pathAStar[0] == False):\n",
    "        pathAStar = aStarSearch (m, new_goal)\n",
    "        if pathAStar[0] == False: (Goal Node has been changed in global variable):\n",
    "            delete variable m\n",
    "            repeats\n",
    "        else:\n",
    "            pathAStar has found the goal node and is no longer changing\n",
    "            break the loop!\n",
    "\"\"\"\n",
    "\n",
    "#Search Path using Iterative Deepening A* Search\n",
    "\n",
    "start = (m.rows, m.cols)\n",
    "#Search Time B - Got problems still\n",
    "\n",
    "pathIDSA = function_IDSA(mazeNeighbours, start, goal1)\n",
    "\n",
    "#print(\"Result for Visited Path A*: \", pathAStar[2])\n",
    "#print(\"Result for Visited Path IDS: \", pathIDSA[2])\n",
    "\n",
    "#print(\"Result for Visited Agent Path A*: \", pathAStar[0])\n",
    "#print(\"Result for Visited Agent Path IDS: \", pathIDSA[0])\n",
    "\n",
    "\n",
    "#pathAStar3 = aStarSearch(m, goal3)\n",
    "\n",
    "agentA = agent(m, footprints = True)\n",
    "agentB = agent(m, shape = \"arrow\", footprints = True, color = COLOR.red)\n",
    "\n",
    "agentAStarPath = agent(m, footprints = True, color=COLOR.yellow, filled = True)\n",
    "agentB_IDSPath = agent(m, footprints = True, color=COLOR.green, filled = True)\n",
    "\n",
    "#Trace the paths - using the previous path\n",
    "m.tracePath({agentAStarPath: arrayAStarFeedback[index-1][2]}, showMarked = True, delay = 100)\n",
    "\n",
    "#Trace the agent movement\n",
    "\n",
    "m.tracePath({agentA: pathAStar[0]})\n",
    "\n",
    "#print(\"Start Tracing Path for Path IDS: \", pathIDSA[2])\n",
    "#print(\"Start Tracing Path for Path IDS: \", pathIDSA[0])\n",
    "\n",
    "m.tracePath({agentB_IDSPath: pathIDSA[2]}, showMarked = True, delay = 100)\n",
    "\n",
    "m.tracePath({agentB: pathIDSA[0]})\n",
    "\n",
    "\n",
    "print()\n",
    "\n",
    "print(\"Steps taken for Iterative Deepening Search for agent A: \", len(pathAStar[0]) + 1, \" steps.\" )\n",
    "\n",
    "print(\"Time taken for Iterative Deepening Search A to finish: \", pathIDSA[3], \" seconds.\")\n",
    "print(\"Steps taken for Iterative Deepening Search for agent B: \", pathIDSA[1], \" steps.\")\n",
    "\n",
    "\n",
    "print(\"Goal 1 Manually Generated: \", goal1)\n",
    "m.run()"
   ]
  },
  {
   "cell_type": "code",
   "execution_count": 8,
   "id": "0e2425ed-5275-4250-8d8e-a2fad1ac8cfb",
   "metadata": {},
   "outputs": [
    {
     "name": "stdout",
     "output_type": "stream",
     "text": [
      "10 and 10\n"
     ]
    }
   ],
   "source": [
    "print(str(m.cols) + \" and \" + str(m.rows))"
   ]
  },
  {
   "cell_type": "code",
   "execution_count": null,
   "id": "8d5388da-7e09-4848-b531-398e4a684314",
   "metadata": {},
   "outputs": [],
   "source": []
  }
 ],
 "metadata": {
  "kernelspec": {
   "display_name": "Python 3 (ipykernel)",
   "language": "python",
   "name": "python3"
  },
  "language_info": {
   "codemirror_mode": {
    "name": "ipython",
    "version": 3
   },
   "file_extension": ".py",
   "mimetype": "text/x-python",
   "name": "python",
   "nbconvert_exporter": "python",
   "pygments_lexer": "ipython3",
   "version": "3.9.7"
  }
 },
 "nbformat": 4,
 "nbformat_minor": 5
}
